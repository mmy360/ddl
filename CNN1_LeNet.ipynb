{
 "cells": [
  {
   "cell_type": "code",
   "execution_count": 1,
   "metadata": {},
   "outputs": [
    {
     "name": "stdout",
     "output_type": "stream",
     "text": [
      "importing Jupyter notebook from ddl.ipynb\n"
     ]
    }
   ],
   "source": [
    "import import_ipynb\n",
    "import torch \n",
    "from torch import nn\n",
    "import ddl"
   ]
  },
  {
   "cell_type": "code",
   "execution_count": 2,
   "metadata": {},
   "outputs": [],
   "source": [
    "def init_cnn(module):\n",
    "    if type(module) == nn.Linear or type(module) == nn.Conv2d:\n",
    "        nn.init.xavier_uniform(module.weight)"
   ]
  },
  {
   "cell_type": "code",
   "execution_count": 3,
   "metadata": {},
   "outputs": [],
   "source": [
    "class LeNet(ddl.Classifier):\n",
    "    def __init__(self, lr=0.1, num_classes=10):\n",
    "        super().__init__()\n",
    "        self.save_hyperparameters()\n",
    "        self.net = nn.Sequential(\n",
    "            nn.LazyConv2d(6, kernel_size=5, padding=2),\n",
    "            nn.Sigmoid(),\n",
    "            nn.AvgPool2d(kernel_size=2, stride=2),\n",
    "\n",
    "            nn.LazyConv2d(16, kernel_size=5),\n",
    "            nn.Sigmoid(),\n",
    "            nn.AvgPool2d(kernel_size=2, stride=2),\n",
    "            \n",
    "            nn.Flatten(),\n",
    "            nn.LazyLinear(120),\n",
    "            nn.Sigmoid(),\n",
    "            nn.LazyLinear(84),\n",
    "            nn.Sigmoid(),\n",
    "            nn.LazyLinear(num_classes)\n",
    "        )"
   ]
  },
  {
   "cell_type": "code",
   "execution_count": 4,
   "metadata": {},
   "outputs": [
    {
     "ename": "NameError",
     "evalue": "name 'nn' is not defined",
     "output_type": "error",
     "traceback": [
      "\u001b[0;31m---------------------------------------------------------------------------\u001b[0m",
      "\u001b[0;31mNameError\u001b[0m                                 Traceback (most recent call last)",
      "Cell \u001b[0;32mIn [4], line 3\u001b[0m\n\u001b[1;32m      1\u001b[0m trainer \u001b[39m=\u001b[39m ddl\u001b[39m.\u001b[39mTrainer(max_epochs\u001b[39m=\u001b[39m\u001b[39m100\u001b[39m, num_gpus\u001b[39m=\u001b[39m\u001b[39m1\u001b[39m)\n\u001b[1;32m      2\u001b[0m data \u001b[39m=\u001b[39m ddl\u001b[39m.\u001b[39mFashionMNIST(batch_size\u001b[39m=\u001b[39m\u001b[39m128\u001b[39m)\n\u001b[0;32m----> 3\u001b[0m model \u001b[39m=\u001b[39m LeNet(lr \u001b[39m=\u001b[39;49m \u001b[39m0.1\u001b[39;49m)\n\u001b[1;32m      4\u001b[0m model\u001b[39m.\u001b[39mapply_init([\u001b[39mnext\u001b[39m(\u001b[39miter\u001b[39m(data\u001b[39m.\u001b[39mget_dataloader(\u001b[39mTrue\u001b[39;00m)))[\u001b[39m0\u001b[39m]], init_cnn)\n\u001b[1;32m      5\u001b[0m trainer\u001b[39m.\u001b[39mfit(model, data)\n",
      "Cell \u001b[0;32mIn [3], line 5\u001b[0m, in \u001b[0;36mLeNet.__init__\u001b[0;34m(self, lr, num_classes)\u001b[0m\n\u001b[1;32m      3\u001b[0m \u001b[39msuper\u001b[39m()\u001b[39m.\u001b[39m\u001b[39m__init__\u001b[39m()\n\u001b[1;32m      4\u001b[0m \u001b[39mself\u001b[39m\u001b[39m.\u001b[39msave_hyperparameters()\n\u001b[0;32m----> 5\u001b[0m \u001b[39mself\u001b[39m\u001b[39m.\u001b[39mnet \u001b[39m=\u001b[39m nn\u001b[39m.\u001b[39mSequential(\n\u001b[1;32m      6\u001b[0m     nn\u001b[39m.\u001b[39mLazyConv2d(\u001b[39m6\u001b[39m, kernel_size\u001b[39m=\u001b[39m\u001b[39m5\u001b[39m, padding\u001b[39m=\u001b[39m\u001b[39m2\u001b[39m),\n\u001b[1;32m      7\u001b[0m     nn\u001b[39m.\u001b[39mSigmoid(),\n\u001b[1;32m      8\u001b[0m     nn\u001b[39m.\u001b[39mAvgPool2d(kernel_size\u001b[39m=\u001b[39m\u001b[39m2\u001b[39m, stride\u001b[39m=\u001b[39m\u001b[39m2\u001b[39m),\n\u001b[1;32m      9\u001b[0m \n\u001b[1;32m     10\u001b[0m     nn\u001b[39m.\u001b[39mLazyConv2d(\u001b[39m16\u001b[39m, kernel_size\u001b[39m=\u001b[39m\u001b[39m5\u001b[39m),\n\u001b[1;32m     11\u001b[0m     nn\u001b[39m.\u001b[39mSigmoid(),\n\u001b[1;32m     12\u001b[0m     nn\u001b[39m.\u001b[39mAvgPool2d(kernel_size\u001b[39m=\u001b[39m\u001b[39m2\u001b[39m, stride\u001b[39m=\u001b[39m\u001b[39m2\u001b[39m),\n\u001b[1;32m     13\u001b[0m     \n\u001b[1;32m     14\u001b[0m     nn\u001b[39m.\u001b[39mFlatten(),\n\u001b[1;32m     15\u001b[0m     nn\u001b[39m.\u001b[39mLazyLinear(\u001b[39m120\u001b[39m),\n\u001b[1;32m     16\u001b[0m     nn\u001b[39m.\u001b[39mSigmoid(),\n\u001b[1;32m     17\u001b[0m     nn\u001b[39m.\u001b[39mLazyLinear(\u001b[39m84\u001b[39m),\n\u001b[1;32m     18\u001b[0m     nn\u001b[39m.\u001b[39mSigmoid(),\n\u001b[1;32m     19\u001b[0m     nn\u001b[39m.\u001b[39mLazyLinear(num_classes)\n\u001b[1;32m     20\u001b[0m )\n",
      "\u001b[0;31mNameError\u001b[0m: name 'nn' is not defined"
     ]
    }
   ],
   "source": [
    "trainer = ddl.Trainer(max_epochs=100, num_gpus=1)\n",
    "data = ddl.FashionMNIST(batch_size=128)\n",
    "model = LeNet(lr = 0.1)\n",
    "model.apply_init([next(iter(data.get_dataloader(True)))[0]], init_cnn)\n",
    "trainer.fit(model, data)"
   ]
  }
 ],
 "metadata": {
  "kernelspec": {
   "display_name": "Python 3.9.13 ('base')",
   "language": "python",
   "name": "python3"
  },
  "language_info": {
   "codemirror_mode": {
    "name": "ipython",
    "version": 3
   },
   "file_extension": ".py",
   "mimetype": "text/x-python",
   "name": "python",
   "nbconvert_exporter": "python",
   "pygments_lexer": "ipython3",
   "version": "3.9.13"
  },
  "orig_nbformat": 4,
  "vscode": {
   "interpreter": {
    "hash": "5f7150598e37f77b1aafdee806cbab6c44458cdb04360a37f2f7957663e8fd22"
   }
  }
 },
 "nbformat": 4,
 "nbformat_minor": 2
}
