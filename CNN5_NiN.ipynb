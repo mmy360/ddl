{
 "cells": [
  {
   "cell_type": "code",
   "execution_count": 1,
   "metadata": {},
   "outputs": [
    {
     "name": "stdout",
     "output_type": "stream",
     "text": [
      "importing Jupyter notebook from ddl.ipynb\n"
     ]
    }
   ],
   "source": [
    "import import_ipynb\n",
    "from torch import nn\n",
    "import ddl"
   ]
  },
  {
   "cell_type": "code",
   "execution_count": null,
   "metadata": {},
   "outputs": [],
   "source": [
    "def nin_block(out_channels, kernel_size, strides, padding):\n",
    "    return nn.Sequential(\n",
    "        nn.LazyConv2d(out_channels, kernel_size, strides, padding),\n",
    "        nn.ReLU(),\n",
    "        nn.LazyConv2d(out_channels, kernel_size=1)\n",
    "        nn.ReLU(),\n",
    "        nn.LazyConv2d(out_channels, kernel_size=1),\n",
    "        nn.ReLU()\n",
    "    )"
   ]
  }
 ],
 "metadata": {
  "kernelspec": {
   "display_name": "Python 3.9.13 ('base')",
   "language": "python",
   "name": "python3"
  },
  "language_info": {
   "codemirror_mode": {
    "name": "ipython",
    "version": 3
   },
   "file_extension": ".py",
   "mimetype": "text/x-python",
   "name": "python",
   "nbconvert_exporter": "python",
   "pygments_lexer": "ipython3",
   "version": "3.9.13"
  },
  "orig_nbformat": 4,
  "vscode": {
   "interpreter": {
    "hash": "5f7150598e37f77b1aafdee806cbab6c44458cdb04360a37f2f7957663e8fd22"
   }
  }
 },
 "nbformat": 4,
 "nbformat_minor": 2
}
